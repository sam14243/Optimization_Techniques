{
 "cells": [
  {
   "cell_type": "code",
   "execution_count": 2,
   "id": "fd6b8c40",
   "metadata": {},
   "outputs": [],
   "source": [
    "import numpy as np\n",
    "import pandas as pd"
   ]
  },
  {
   "cell_type": "code",
   "execution_count": 3,
   "id": "49ed3b4a",
   "metadata": {},
   "outputs": [],
   "source": [
    "data = pd.read_csv('Bank_Personal_Loan_Modelling.csv')"
   ]
  },
  {
   "cell_type": "code",
   "execution_count": 4,
   "id": "017f3d36",
   "metadata": {},
   "outputs": [],
   "source": [
    "x = data.iloc[:, [1,2,3,5,6,7,8,10,11,12,13]].values\n",
    "y = data.iloc[:, [9]].values\n",
    "from sklearn.model_selection import train_test_split\n",
    "\n",
    "from sklearn.linear_model import LogisticRegression\n",
    "x_train, x_test, y_train, y_test = train_test_split(x,y, test_size=0.25, random_state=0)\n",
    "from sklearn.preprocessing import StandardScaler\n",
    "sc = StandardScaler()\n",
    "\n",
    "x_train = sc.fit_transform(x_train)\n",
    "x_test = sc.transform(x_test)"
   ]
  },
  {
   "cell_type": "code",
   "execution_count": 5,
   "id": "c4b6e8fc",
   "metadata": {},
   "outputs": [],
   "source": [
    "ins = 11\n",
    "hns = 6\n",
    "ous = 1"
   ]
  },
  {
   "cell_type": "code",
   "execution_count": 6,
   "id": "83750120",
   "metadata": {},
   "outputs": [],
   "source": [
    "def sigmoid(x):\n",
    "    return 1 / (1+np.exp(-x))"
   ]
  },
  {
   "cell_type": "code",
   "execution_count": 7,
   "id": "2191b929",
   "metadata": {},
   "outputs": [],
   "source": [
    "def fitness_function(x_train, y_train, weights):\n",
    "    hn_output = sigmoid(np.dot(x_train,weights[0]))\n",
    "    out = sigmoid(np.dot(hn_output, weights[1]))\n",
    "    out_error = y_train - out\n",
    "    mse = 1 + np.mean(np.square(out_error))\n",
    "    return 1 / mse"
   ]
  },
  {
   "cell_type": "code",
   "execution_count": 8,
   "id": "51ef24ec",
   "metadata": {},
   "outputs": [],
   "source": [
    "def genetic(x_train, y_train, population, num):\n",
    "    population1 = population\n",
    "    pop_size = len(population1)\n",
    "    for i in range(num):\n",
    "        fitness = []\n",
    "        for weight in population1:\n",
    "            fitness.append(fitness_function(x_train, y_train, weight))\n",
    "        fitness = np.array(fitness)\n",
    "        \n",
    "        parents = []\n",
    "        for i in range(2):\n",
    "            parent_idx = np.random.choice(pop_size, p=fitness/(fitness.sum()))\n",
    "            parents.append(population1[parent_idx])\n",
    "        children = []\n",
    "        for i in range(pop_size):\n",
    "            weights1 = parents[0][0] * np.random.rand(ins, hns) + parents[1][0] * (1 - np.random.rand(ins, hns))\n",
    "            weights2 = parents[0][1] * np.random.rand(hns, ous) + parents[1][1] * (1 - np.random.rand(hns, ous))\n",
    "            children.append([weights1, weights2])\n",
    "\n",
    "        for j in range(pop_size):\n",
    "            if np.random.rand() < 0.1:\n",
    "                children[j][0] += np.random.randn(ins, hns) * 0.1\n",
    "            if np.random.rand() < 0.1:\n",
    "                children[j][1] += np.random.randn(hns,ous) * 0.1\n",
    "                \n",
    "        population1 = children\n",
    "    \n",
    "    opti_weight = []\n",
    "    opti_fitness = 0\n",
    "    for _ in population1:\n",
    "        fitness = fitness_function(x_train, y_train, _)\n",
    "        if fitness > opti_fitness:\n",
    "            opti_weight = _\n",
    "            opti_fitness = fitness\n",
    "    return opti_weight"
   ]
  },
  {
   "cell_type": "code",
   "execution_count": 148,
   "id": "6cea2914",
   "metadata": {},
   "outputs": [],
   "source": [
    "num_of_generations = 80\n",
    "population = []\n",
    "for i in range(10):\n",
    "    weights1 = np.random.randn(ins, hns)\n",
    "    weights2 = np.random.randn(hns, ous)\n",
    "    population.append((weights1, weights2))"
   ]
  },
  {
   "cell_type": "code",
   "execution_count": 149,
   "id": "199f1295",
   "metadata": {},
   "outputs": [],
   "source": [
    "oweight = genetic(x_test, y_test, population, num_of_generations)"
   ]
  },
  {
   "cell_type": "code",
   "execution_count": 150,
   "id": "bc891bca",
   "metadata": {},
   "outputs": [],
   "source": [
    "out1 = sigmoid(np.dot(x_test, oweight[0])) #neural network\n",
    "out2 = sigmoid(np.dot(out1, oweight[1]))"
   ]
  },
  {
   "cell_type": "code",
   "execution_count": 151,
   "id": "e71fc731",
   "metadata": {},
   "outputs": [],
   "source": [
    "y_pred = out2.round()"
   ]
  },
  {
   "cell_type": "code",
   "execution_count": 153,
   "id": "228ded7f",
   "metadata": {},
   "outputs": [
    {
     "data": {
      "text/plain": [
       "0.9128"
      ]
     },
     "execution_count": 153,
     "metadata": {},
     "output_type": "execute_result"
    }
   ],
   "source": [
    "from sklearn.metrics import accuracy_score\n",
    "accuracy_score(y_pred, y_test)"
   ]
  },
  {
   "cell_type": "code",
   "execution_count": 14,
   "id": "93436ecb",
   "metadata": {},
   "outputs": [],
   "source": [
    "numi = 100\n",
    "nump = 5\n",
    "numw = (ins*hns) + (hns*ous)"
   ]
  },
  {
   "cell_type": "code",
   "execution_count": 15,
   "id": "4960da5a",
   "metadata": {},
   "outputs": [],
   "source": [
    "def PSO(particle, velocity,x,y, w, nump, numi, numw, c1, c2):\n",
    "    opti_fitness = 0\n",
    "    opti_weight = []\n",
    "    for i in range(numi):\n",
    "        for j in range(nump):\n",
    "            p = particle[j]\n",
    "            v = velocity[j]\n",
    "            fitness = fitness_function(x, y, p)\n",
    "            if fitness > opti_fitness:\n",
    "                opti_fitness = fitness\n",
    "                opti_weight = np.copy(p)\n",
    "            for k in range(numw):\n",
    "                r1 = np.random.rand()\n",
    "                r2 = np.random.rand()\n",
    "                v[k] = (w*v[k]) + c1*r1*(opti_weight[k] - p[k]) + c2*r2*(p[k] - opti_weight[k])\n",
    "                p[k] +=v[k]\n",
    "            velocity[j] = v\n",
    "            particle[j] = p\n",
    "    return [np.array(opti_weight[:ins * hns]).reshape((ins, hns)),\n",
    "            np.array(opti_weight[ins * hns:]).reshape((hns, ous))]"
   ]
  },
  {
   "cell_type": "code",
   "execution_count": 16,
   "id": "d1d5646a",
   "metadata": {},
   "outputs": [],
   "source": [
    "particle = []\n",
    "velocity = []\n",
    "for i in range(nump):\n",
    "    p = []\n",
    "    v = []\n",
    "    for j in range(numw):\n",
    "        p.append(np.random.rand())\n",
    "        v.append(0)\n",
    "    particle.append(p)\n",
    "    velocity.append(v)"
   ]
  },
  {
   "cell_type": "code",
   "execution_count": 91,
   "id": "bb44cf74",
   "metadata": {},
   "outputs": [],
   "source": [
    "oweight = PSO(particle, velocity,x_test, y_test, 0.5, nump, numi, numw, 0.5,0.5)"
   ]
  },
  {
   "cell_type": "code",
   "execution_count": 123,
   "id": "cb7d6d52",
   "metadata": {},
   "outputs": [
    {
     "name": "stderr",
     "output_type": "stream",
     "text": [
      "C:\\Users\\vscse\\AppData\\Local\\Temp/ipykernel_11156/91620759.py:2: RuntimeWarning: overflow encountered in exp\n",
      "  return 1 / (1+np.exp(-x))\n"
     ]
    },
    {
     "data": {
      "text/plain": [
       "0.9072"
      ]
     },
     "execution_count": 123,
     "metadata": {},
     "output_type": "execute_result"
    }
   ],
   "source": [
    "out1 = sigmoid(np.dot(x_test, oweight[0])) #neural network\n",
    "out2 = sigmoid(np.dot(out1, oweight[1]))\n",
    "y_pred = out2.round()\n",
    "from sklearn.metrics import accuracy_score\n",
    "accuracy_score(y_pred, y_test)"
   ]
  },
  {
   "cell_type": "code",
   "execution_count": 101,
   "id": "b36a09f8",
   "metadata": {},
   "outputs": [],
   "source": [
    "def ACO(num_ants, numi, numw, x, y, alpha, beta, evaporation_rate, pheromone_deposit):\n",
    "    pheromone_trail = np.ones((numw, num_ants))\n",
    "    gopti_pos = []\n",
    "    gopti_fitness = 0\n",
    "    for _ in range(numi):\n",
    "        ant_position = np.zeros((num_ants, numw))\n",
    "        ant_fitness = np.zeros(num_ants)\n",
    "        for i in range(num_ants):\n",
    "            current_idx = np.random.randint(numw)\n",
    "            ant_position[i][current_idx] = np.random.uniform(-1, 1)\n",
    "            for j in range(current_idx + 1, numw):\n",
    "                phweight = pheromone_trail[j] ** alpha\n",
    "                pweight = (phweight) ** beta\n",
    "                sump=0\n",
    "                for i in range(len(pweight)):\n",
    "                    sump += pweight[i]\n",
    "                if sump!=0:\n",
    "                    pweight = pweight/sump\n",
    "                selected_idx = np.random.choice(num_ants, p = pweight)\n",
    "                ant_position[i][j] = ant_position[selected_idx][j]\n",
    "            ant_fitness[i] = fitness_function(x, y,[np.array(ant_position[i][:ins * hns]).reshape((ins, hns)), np.array(ant_position[i][ins * hns:]).reshape((hns, ous))])\n",
    "            if ant_fitness[i] > gopti_fitness: #Cost Function\n",
    "                gopti_pos = ant_position[i].copy()\n",
    "                gopti_fitness = ant_fitness[i]\n",
    "        pheromone_trail *= evaporation_rate #Decay Rate\n",
    "        for ant in range(num_ants):\n",
    "            for weight_index in range(numw):\n",
    "                pheromone_trail[j][i] += pheromone_deposit / ant_fitness[i] if ant_fitness[i] > 0 else 0 #With respect to importance of ant\n",
    "    return [np.array(gopti_pos[:ins * hns]).reshape((ins, hns)),\n",
    "            np.array(gopti_pos[ins * hns:]).reshape((hns, ous))]"
   ]
  },
  {
   "cell_type": "code",
   "execution_count": 160,
   "id": "c4b3628a",
   "metadata": {},
   "outputs": [],
   "source": [
    "num_ants = 20\n",
    "oweight = ACO(num_ants, 100, numw ,x_test, y_test, 1,1, 0.5, 100)"
   ]
  },
  {
   "cell_type": "code",
   "execution_count": 107,
   "id": "0995b0cc",
   "metadata": {},
   "outputs": [
    {
     "data": {
      "text/plain": [
       "0.9136"
      ]
     },
     "execution_count": 107,
     "metadata": {},
     "output_type": "execute_result"
    }
   ],
   "source": [
    "out1 = sigmoid(np.dot(x_test, oweight[0])) #neural network\n",
    "out2 = sigmoid(np.dot(out1, oweight[1]))\n",
    "y_pred = out2.round()\n",
    "from sklearn.metrics import accuracy_score\n",
    "accuracy_score(y_pred, y_test)"
   ]
  },
  {
   "cell_type": "code",
   "execution_count": 183,
   "id": "dae8e866",
   "metadata": {},
   "outputs": [],
   "source": [
    "def cultural_algorithm(numi, numw, x, y, numl, numb, numn, mutation_rate, mutation_stddev):\n",
    "    belief = np.random.uniform(-1, 1, (numb, numw))\n",
    "    norm = np.random.uniform(0, 1, (numn, numw))\n",
    "    gopti_pos = []\n",
    "    opti_fitness = 0\n",
    "    for iteration in range(numi):\n",
    "        learner_position = np.zeros((numl,numw))\n",
    "        learner_fitness = np.zeros(numl)\n",
    "        for i in range(numl):\n",
    "            selected_idx = np.random.randint(numb)\n",
    "            learner_position[i] = belief[selected_idx].copy()\n",
    "            for j in range(len(learner_position[i])):\n",
    "                if np.random.rand() < mutation_rate:\n",
    "                    learner_position[i][j] += np.random.normal(0, mutation_stddev)\n",
    "            learner_fitness[i] = fitness_function(x,y,[np.array(learner_position[i][:ins * hns]).reshape((ins, hns)),\n",
    "                                                           np.array(learner_position[i][ins * hns:]).reshape((hns, ous))])\n",
    "            if learner_fitness[i] > opti_fitness:\n",
    "                gopti_pos = learner_position[i].copy()\n",
    "                opti_fitness = learner_fitness[i]\n",
    "        for belief_index in range(numb):\n",
    "            belief_learner = [learner_position[j] for j in range(numl) if norm[j][belief_index] > np.mean(norm[:, belief_index])]\n",
    "            if belief_learner:\n",
    "                belief[belief_index] = np.mean(belief_learner, axis=0)\n",
    "            for norm_index in range(numn):\n",
    "                if np.random.rand() < 0.5:\n",
    "                    norm[norm_index][belief_index] += np.random.normal(0, 0.1)\n",
    "                norm[norm_index][belief_index] = np.clip(norm[norm_index][belief_index], 0, 1)\n",
    "                \n",
    "    return [np.array(gopti_pos[:ins * hns]).reshape((ins, hns)),\n",
    "            np.array(gopti_pos[ins * hns:]).reshape((hns, ous))]"
   ]
  },
  {
   "cell_type": "code",
   "execution_count": 220,
   "id": "f08f43ee",
   "metadata": {},
   "outputs": [],
   "source": [
    "numi = 100\n",
    "numl = 15\n",
    "numb = 18\n",
    "numn = 20\n",
    "oweight = cultural_algorithm(numi, numw, x_test, y_test, numl, numb, numn,0.01, 0.01)"
   ]
  },
  {
   "cell_type": "code",
   "execution_count": 221,
   "id": "a19e3a54",
   "metadata": {},
   "outputs": [
    {
     "data": {
      "text/plain": [
       "0.9032"
      ]
     },
     "execution_count": 221,
     "metadata": {},
     "output_type": "execute_result"
    }
   ],
   "source": [
    "out1 = sigmoid(np.dot(x_test, oweight[0])) #neural network\n",
    "out2 = sigmoid(np.dot(out1, oweight[1]))\n",
    "y_pred = out2.round()\n",
    "from sklearn.metrics import accuracy_score\n",
    "accuracy_score(y_pred, y_test)"
   ]
  }
 ],
 "metadata": {
  "kernelspec": {
   "display_name": "Python 3 (ipykernel)",
   "language": "python",
   "name": "python3"
  },
  "language_info": {
   "codemirror_mode": {
    "name": "ipython",
    "version": 3
   },
   "file_extension": ".py",
   "mimetype": "text/x-python",
   "name": "python",
   "nbconvert_exporter": "python",
   "pygments_lexer": "ipython3",
   "version": "3.9.7"
  }
 },
 "nbformat": 4,
 "nbformat_minor": 5
}
